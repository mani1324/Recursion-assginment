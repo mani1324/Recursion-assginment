{
 "cells": [
  {
   "cell_type": "code",
   "execution_count": 1,
   "id": "b850688d-c520-4691-a7ac-f9c0119779df",
   "metadata": {},
   "outputs": [
    {
     "data": {
      "text/plain": [
       "7"
      ]
     },
     "execution_count": 1,
     "metadata": {},
     "output_type": "execute_result"
    }
   ],
   "source": [
    "'''Q.1 Can you explain the logic and working of the Tower of Hanoi algorithm by writing a Java program?\n",
    "How does the recursion work, and how are the movements of disks between rods accomplished?'''\n",
    "\n",
    "'''\n",
    "Certainly! The Tower of Hanoi is a classic problem in computer science and mathematics. The problem consists of three rods and a \n",
    "number of disks of different sizes which can slide onto any rod. The puzzle starts with the disks in a neat stack in ascending order\n",
    "of size on one rod, the smallest at the top, thus making a conical shape.\n",
    "\n",
    "The objective of the puzzle is to move the entire stack to another rod, obeying the following simple rules:\n",
    "\n",
    "Only one disk can be moved at a time.\n",
    "Each move consists of taking the upper disk from one of the stacks and placing it on top of another stack or on an empty rod.\n",
    "No disk may be placed on top of a smaller disk.\n",
    "\n",
    "'''\n",
    "def moves(n, A ,C , B):\n",
    "\n",
    "# Base condition\n",
    "\n",
    "  if n == 1 :\n",
    "    return 1\n",
    "\n",
    "# move n-1 A->B , then move 1 biggest coin to A->C and then n-1 coin B-C\n",
    "  return moves(n-1,A,B,C) + 1 + moves(n-1,B,C,A)\n",
    "\n",
    "moves(3,\"A\",\"C\",\"B\")"
   ]
  },
  {
   "cell_type": "code",
   "execution_count": 4,
   "id": "fccef6fe-ce9f-4c26-9fa6-6eb5c6641af9",
   "metadata": {},
   "outputs": [
    {
     "name": "stdout",
     "output_type": "stream",
     "text": [
      "3\n",
      "5\n"
     ]
    }
   ],
   "source": [
    "###Q.2 Given two strings word1 and word2, return the minimum number of operations required to convert word1 to word2.\n",
    "def min_operations_recursive(word1, word2, m, n):\n",
    "    # Base cases\n",
    "    if m == 0:\n",
    "        return n\n",
    "    if n == 0:\n",
    "        return m\n",
    "\n",
    "    if word1[m - 1] == word2[n - 1]:\n",
    "        return min_operations_recursive(word1, word2, m - 1, n - 1)\n",
    "\n",
    "    return 1 + min(\n",
    "        min_operations_recursive(word1, word2, m, n - 1),  \n",
    "        min_operations_recursive(word1, word2, m - 1, n),  \n",
    "        min_operations_recursive(word1, word2, m - 1, n - 1)  \n",
    "    )\n",
    "\n",
    "def min_operations(word1, word2):\n",
    "    return min_operations_recursive(word1, word2, len(word1), len(word2))\n",
    "\n",
    "# Example 1\n",
    "word1 = \"horse\"\n",
    "word2 = \"ros\"\n",
    "result = min_operations(word1, word2)\n",
    "print(result)\n",
    "\n",
    "#Example 2\n",
    "word_1 =   \"intention\" \n",
    "word_2 = \"execution\"\n",
    "\n",
    "result_1 = min_operations(word_1, word_2)\n",
    "print(result_1)"
   ]
  },
  {
   "cell_type": "code",
   "execution_count": 6,
   "id": "b9cd0817-2c80-4776-8af5-70ec6e40f413",
   "metadata": {},
   "outputs": [
    {
     "name": "stdout",
     "output_type": "stream",
     "text": [
      "22\n"
     ]
    }
   ],
   "source": [
    "##Q. 3 Print the max value of the array [ 13, 1, -3, 22, 5].\n",
    "\n",
    "def find_max_value(arr, n):\n",
    "    if n == 1:  ##length of arr\n",
    "        return arr[0]\n",
    "\n",
    "    max_num = find_max_value(arr[1:], n - 1)\n",
    "\n",
    "    return max(arr[0], max_num)\n",
    "\n",
    "\n",
    "array = [13, 1, -3, 22, 5]\n",
    "max_value = find_max_value(array, len(array))\n",
    "\n",
    "print(max_value)\n"
   ]
  },
  {
   "cell_type": "code",
   "execution_count": 7,
   "id": "e355ade0-6362-4c21-a4fb-5e950eaaebef",
   "metadata": {},
   "outputs": [
    {
     "name": "stdout",
     "output_type": "stream",
     "text": [
      "120\n"
     ]
    }
   ],
   "source": [
    "##Q.4 Find the sum of the values of the array [92, 23, 15, -20, 10].\n",
    "\n",
    "def sum_of_values_recursive(arr, n):\n",
    "    \n",
    "    if n == 0:\n",
    "        return 0\n",
    "\n",
    "    return arr[0] + sum_of_values_recursive(arr[1:], n - 1)\n",
    "\n",
    "\n",
    "array = [92, 23, 15, -20, 10]\n",
    "sum_values = sum_of_values_recursive(array, len(array))\n",
    "\n",
    "print(sum_values)\n"
   ]
  },
  {
   "cell_type": "code",
   "execution_count": 10,
   "id": "872b1b85-c348-46fd-a5dd-e3743425aea1",
   "metadata": {},
   "outputs": [
    {
     "name": "stdout",
     "output_type": "stream",
     "text": [
      "153 is not an Armstrong number.\n",
      "134 is not an Armstrong number.\n"
     ]
    }
   ],
   "source": [
    "'''Q.5 Given a number n. Print if it is an armstrong number or not.An armstrong number is a number if the sum\n",
    "of every digit in that number raised to the power of total digits in that number is equal to the number.'''\n",
    "\n",
    "def count_digits(n):\n",
    "    # Base case: if the number is 0, it has 1 digit\n",
    "    if n == 0:\n",
    "        return 1\n",
    "    # Recursive case: count the number of digits in the remaining part of the number\n",
    "    return 1 + count_digits(n // 10)\n",
    "\n",
    "def is_armstrong_recursive(n, num_digits):\n",
    "    # Base case: if the number is a single-digit number, it is always an Armstrong number\n",
    "    if n < 10:\n",
    "        return n == n ** num_digits\n",
    "    # Recursive case: check if the current digit raised to the power of num_digits is equal to the number\n",
    "    return (n % 10) ** num_digits + is_armstrong_recursive(n // 10, num_digits)\n",
    "\n",
    "def is_armstrong_number(n):\n",
    "    num_digits = count_digits(n)\n",
    "    return n == is_armstrong_recursive(n, num_digits)\n",
    "\n",
    "# Example 1\n",
    "number_1 = 153\n",
    "if is_armstrong_number(number_1):\n",
    "    print(f\"{number_1} is an Armstrong number.\")\n",
    "else:\n",
    "    print(f\"{number_1} is not an Armstrong number.\")\n",
    "\n",
    "    \n",
    "# Example 2\n",
    "number_2 = 134\n",
    "if is_armstrong_number(number_2):\n",
    "    print(f\"{number_2} is an Armstrong number.\")\n",
    "else:\n",
    "    print(f\"{number_2} is not an Armstrong number.\")\n"
   ]
  },
  {
   "cell_type": "code",
   "execution_count": null,
   "id": "ff01ad22-3fd0-4688-b541-1d217fd66a5a",
   "metadata": {},
   "outputs": [],
   "source": []
  },
  {
   "cell_type": "code",
   "execution_count": null,
   "id": "cf2aef24-f42d-4655-87d1-1b886e7fe7cc",
   "metadata": {},
   "outputs": [],
   "source": []
  },
  {
   "cell_type": "code",
   "execution_count": null,
   "id": "d0748c01-ae25-44c1-a412-47f52d02314c",
   "metadata": {},
   "outputs": [],
   "source": []
  },
  {
   "cell_type": "code",
   "execution_count": null,
   "id": "71db206e-fd37-4810-a190-b3a18a9fdbb5",
   "metadata": {},
   "outputs": [],
   "source": []
  }
 ],
 "metadata": {
  "kernelspec": {
   "display_name": "Python 3 (ipykernel)",
   "language": "python",
   "name": "python3"
  },
  "language_info": {
   "codemirror_mode": {
    "name": "ipython",
    "version": 3
   },
   "file_extension": ".py",
   "mimetype": "text/x-python",
   "name": "python",
   "nbconvert_exporter": "python",
   "pygments_lexer": "ipython3",
   "version": "3.10.8"
  }
 },
 "nbformat": 4,
 "nbformat_minor": 5
}
